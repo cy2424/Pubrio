{
 "cells": [
  {
   "cell_type": "code",
   "execution_count": 2,
   "id": "eac7dab2",
   "metadata": {},
   "outputs": [
    {
     "name": "stdout",
     "output_type": "stream",
     "text": [
      "HTML content saved to file.\n"
     ]
    }
   ],
   "source": [
    "import requests\n",
    "from bs4 import BeautifulSoup\n",
    "\n",
    "# URL of Pubrio Assessment\n",
    "url = 'https://techcrunch.com/2023/10/27/x-is-launching-new-premium-and-basic-subscription-tiers/'\n",
    "\n",
    "# Send a GET request to the website\n",
    "response = requests.get(url)\n",
    "\n",
    "# If the request was successful, response.status_code will be 200\n",
    "if response.status_code == 200:\n",
    "\n",
    "    html_content = response.text\n",
    "    \n",
    "    # Parse the HTML content\n",
    "    soup = BeautifulSoup(html_content, 'html.parser')\n",
    "    \n",
    "    # Save the entire HTML content to a txt file\n",
    "    with open('C:/Users/User/Documents/Pubrio_website_content.txt', 'w', encoding='utf-8') as file:\n",
    "        file.write(soup.prettify())\n",
    "    print('HTML content saved to file.')\n",
    "else:\n",
    "    print('Failed to retrieve the webpage')\n"
   ]
  },
  {
   "cell_type": "code",
   "execution_count": null,
   "id": "53968497",
   "metadata": {},
   "outputs": [],
   "source": []
  }
 ],
 "metadata": {
  "kernelspec": {
   "display_name": "Python 3 (ipykernel)",
   "language": "python",
   "name": "python3"
  },
  "language_info": {
   "codemirror_mode": {
    "name": "ipython",
    "version": 3
   },
   "file_extension": ".py",
   "mimetype": "text/x-python",
   "name": "python",
   "nbconvert_exporter": "python",
   "pygments_lexer": "ipython3",
   "version": "3.10.9"
  }
 },
 "nbformat": 4,
 "nbformat_minor": 5
}
